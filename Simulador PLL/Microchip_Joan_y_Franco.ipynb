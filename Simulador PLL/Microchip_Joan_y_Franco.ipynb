{
 "cells": [
  {
   "cell_type": "markdown",
   "metadata": {
    "colab_type": "text",
    "id": "qzUuYVcfZwv-"
   },
   "source": [
    "Paquetes a utilizar\n"
   ]
  },
  {
   "cell_type": "code",
   "execution_count": null,
   "metadata": {
    "colab": {},
    "colab_type": "code",
    "id": "BbK8zkshEMfc"
   },
   "outputs": [],
   "source": [
    "# -*- coding: utf-8 -*-\n",
    "\n",
    "import random as r\n",
    "import time\n",
    "import matplotlib.pyplot as plt\n",
    "import scipy as sc\n",
    "import numpy as np\n",
    "from scipy import signal\n",
    "from scipy import fftpack\n",
    "import tkinter as tk\n",
    "#import commpy as cm\n",
    "#import math as mt"
   ]
  },
  {
   "cell_type": "markdown",
   "metadata": {
    "colab_type": "text",
    "id": "bbHCfkrcZ9J7"
   },
   "source": [
    "# **2. Fuentes de señal**"
   ]
  },
  {
   "cell_type": "markdown",
   "metadata": {
    "colab_type": "text",
    "id": "p_OtQ1GNqGUG"
   },
   "source": [
    "**Ejercicio 1**"
   ]
  },
  {
   "cell_type": "code",
   "execution_count": null,
   "metadata": {
    "colab": {},
    "colab_type": "code",
    "id": "8y8Oz28oSjm0"
   },
   "outputs": [],
   "source": [
    "def fuente(f0, Ts, fase_inicial, N):\n",
    "    \n",
    "    t = 0\n",
    "    salida = []\n",
    "\n",
    "    for i in range(N):\n",
    "        salida.append([t, np.sin(2*np.pi*f0*t+fase_inicial)])\n",
    "        t+=Ts\n",
    "\n",
    "    return salida"
   ]
  },
  {
   "cell_type": "markdown",
   "metadata": {
    "colab_type": "text",
    "id": "TeAd49AGp3bq"
   },
   "source": [
    "**Ejercicio 2**"
   ]
  },
  {
   "cell_type": "code",
   "execution_count": null,
   "metadata": {
    "colab": {},
    "colab_type": "code",
    "id": "8IDPJnITVQ4o"
   },
   "outputs": [],
   "source": [
    "def ejercicio_2():\n",
    "    \n",
    "    f0 = 1000\n",
    "    Ts = 1/(100*f0)\n",
    "    onda = fuente(f0,Ts,np.pi/2,1000)  \n",
    "    graficar(onda, 'Tiempo (s)', 'Amplitud (V)', 'Ejercicio 2')\n",
    "  \n",
    "    return 0"
   ]
  },
  {
   "cell_type": "markdown",
   "metadata": {
    "colab_type": "text",
    "id": "fDgKIjOwLwNM"
   },
   "source": [
    "**Ejercicio 3**"
   ]
  },
  {
   "cell_type": "code",
   "execution_count": null,
   "metadata": {
    "colab": {},
    "colab_type": "code",
    "id": "o6VG8ueHCxlr"
   },
   "outputs": [],
   "source": [
    "def ejercicio_3():\n",
    "    \n",
    "    f0 = 1000\n",
    "    Ts = 1/(100*f0)\n",
    "    N = 1000\n",
    "    mitad_1 = fuente(f0,Ts,np.pi/2,1000//2)\n",
    "    mitad_2 = fuente(f0,Ts,np.pi/2+np.pi,1000//2)\n",
    "    resultado = unir_lista(mitad_1, mitad_2)\n",
    "    graficar(resultado, 'Tiempo (s)', 'Amplitud (V)', 'Error en fase')\n",
    "\n",
    "    return 0"
   ]
  },
  {
   "cell_type": "markdown",
   "metadata": {
    "colab_type": "text",
    "id": "Kz3VEsf8aBye"
   },
   "source": [
    "# **3. Detector de fases**\n"
   ]
  },
  {
   "cell_type": "markdown",
   "metadata": {
    "colab_type": "text",
    "id": "oAW4ZBBnJQhd"
   },
   "source": [
    "**Ejercicio** 4"
   ]
  },
  {
   "cell_type": "code",
   "execution_count": null,
   "metadata": {
    "colab": {},
    "colab_type": "code",
    "id": "S5rlcYKlTwI7"
   },
   "outputs": [],
   "source": [
    "def detector(xr, xv, K=1): \n",
    "    \n",
    "    producto = []\n",
    "    \n",
    "    for i in range(len(xr)):\n",
    "        producto.append([xr[i][0],K*xr[i][1]*xv[i][1]])\n",
    "        \n",
    "    return producto"
   ]
  },
  {
   "cell_type": "markdown",
   "metadata": {
    "colab_type": "text",
    "id": "qv5AarhAJSIb"
   },
   "source": [
    "**Ejercicio** 5"
   ]
  },
  {
   "cell_type": "code",
   "execution_count": null,
   "metadata": {
    "colab": {},
    "colab_type": "code",
    "id": "CHsFcnJB3fIw"
   },
   "outputs": [],
   "source": [
    "def ejercicio_5():\n",
    "    f0 = 1000\n",
    "    Ts = 1/(100*f0)\n",
    "    fase_1 = 0\n",
    "    fase_2 = np.pi/4\n",
    "\n",
    "    onda_1 = fuente(f0, Ts, fase_1,1000)\n",
    "    onda_2 = fuente(f0, Ts, fase_2,1000)\n",
    "\n",
    "    resultado = detector(onda_1,onda_2)\n",
    "    graficar(resultado, 'Tiempo (t)', 'Amplitud (V)', 'Ejercicio 5')\n",
    "    graficar(fourier(resultado, Ts), 'Frecuencia (Hz)', 'Amplitud (V)', 'Ejercicio 5') #esto es prescindible\n",
    "\n",
    "    return 0"
   ]
  },
  {
   "cell_type": "markdown",
   "metadata": {
    "colab_type": "text",
    "id": "qv5AarhAJSIb"
   },
   "source": [
    "**Ejercicio** 6"
   ]
  },
  {
   "cell_type": "code",
   "execution_count": null,
   "metadata": {
    "colab": {},
    "colab_type": "code",
    "id": "uYTOUAJeB4LU"
   },
   "outputs": [],
   "source": [
    "def ejercicio_6():\n",
    "\n",
    "    f0 = 1000\n",
    "    Ts = 1/(100*f0)\n",
    "    fase_1 = 0\n",
    "    fase_2 = np.pi/2\n",
    "    \n",
    "    onda_1 = fuente(f0, Ts, fase_1, 1000)\n",
    "    onda_2 = fuente(f0, Ts, fase_2, 1000)\n",
    "\n",
    "    resultado = detector(onda_1,onda_2)\n",
    "\n",
    "    graficar(resultado, 'Tiempo (t)', 'Amplitud (V)', 'Ejercicio 5')\n",
    "    graficar(fourier(resultado, Ts), 'Frecuencia (Hz)', 'Amplitud (V)', 'Ejercicio 5')\n",
    "  \n",
    "    return 0 "
   ]
  },
  {
   "cell_type": "markdown",
   "metadata": {
    "colab_type": "text",
    "id": "D4tzW3mUaPdj"
   },
   "source": [
    "# **4. Filtro**"
   ]
  },
  {
   "cell_type": "markdown",
   "metadata": {
    "colab_type": "text",
    "id": "spzgbONTRoFE"
   },
   "source": [
    "**Ejercicio 7**"
   ]
  },
  {
   "cell_type": "code",
   "execution_count": null,
   "metadata": {
    "colab": {},
    "colab_type": "code",
    "id": "bwXRqeheboDn"
   },
   "outputs": [],
   "source": [
    "def filtro(xd, estado_inicial, tipo, C, R1, R2, Ts):\n",
    "\n",
    "    entrada = []\n",
    "    salida = []\n",
    "\n",
    "    for elem in xd:       # Primero construye un array para poder pasarlo al filtro\n",
    "        entrada.append(elem[1])  \n",
    "\n",
    "    if tipo == 'rc':\n",
    "        coeficientes = signal.bilinear([1], [1,R1*C], 1/Ts)\n",
    "        zi = signal.lfilter_zi(coeficientes[0], coeficientes[1]) # Condiciones iniciales\n",
    "        filtrado = [estado_inicial[0],estado_inicial[1]*zi]\n",
    "\n",
    "        for i in range(len(xd)):\n",
    "            filtrado = signal.lfilter(coeficientes[0], coeficientes[1], [entrada[i]], zi=filtrado[1] )\n",
    "            salida.append([xd[i][0], filtrado[0].tolist()[0]]) # Arma la lista con coordenadas (t,V)\n",
    "\n",
    "        return salida\n",
    "\n",
    "    elif tipo == 'lead-lag pasivo':\n",
    "        coeficientes = signal.bilinear([1,R2*C], [1,(R1+R2)*C], 1/Ts)\n",
    "        zi = signal.lfilter_zi(coeficientes[0], coeficientes[1])\n",
    "        filtrado = [estado_inicial[0],estado_inicial[1]*zi]\n",
    "\n",
    "        for i in range(len(xd)):\n",
    "            filtrado = signal.lfilter(coeficientes[0], coeficientes[1], [entrada[i]], zi=filtrado[1] )\n",
    "            salida.append([xd[i][0], filtrado[0].tolist()[0]]) # Arma la lista con coordenadas (t,V)\n",
    "        \n",
    "            return salida\n",
    "\n",
    "    elif tipo == 'lead-lag activo':\n",
    "        coeficientes = signal.bilinear([1,R2*C], [0,R1*C], 1/Ts)\n",
    "        zi = signal.lfilter_zi(coeficientes[0], coeficientes[1])\n",
    "        filtrado = [estado_inicial[0],estado_inicial[1]*zi]\n",
    "\n",
    "        for i in range(len(xd)):\n",
    "            filtrado = signal.lfilter(coeficientes[0], coeficientes[1], [entrada[i]], zi=filtrado[1] )\n",
    "            salida.append([xd[i][0], filtrado[0].tolist()[0]]) # Arma la lista con coordenadas (t,V)\n",
    "        \n",
    "        return salida\n",
    "\n",
    "    else: \n",
    "        return salida"
   ]
  },
  {
   "cell_type": "markdown",
   "metadata": {
    "colab_type": "text",
    "id": "9gjAAo9StATs"
   },
   "source": [
    "Traductor parámetros"
   ]
  },
  {
   "cell_type": "code",
   "execution_count": null,
   "metadata": {
    "colab": {},
    "colab_type": "code",
    "id": "0TDy8SNftFEp"
   },
   "outputs": [],
   "source": [
    "def traductor(xi, omega):\n",
    "    if xi == 0:\n",
    "        R = np.sqrt(1/omega)\n",
    "        return [R,R,0]\n",
    "    else:\n",
    "        R = 2*xi\n",
    "        return [R,R,R]"
   ]
  },
  {
   "cell_type": "code",
   "execution_count": null,
   "metadata": {
    "colab": {},
    "colab_type": "code",
    "id": "739EL8C-t_CF"
   },
   "outputs": [],
   "source": [
    "def filtro_traducido(xd, estado_inicial, tipo, xi, omega, Ts):\n",
    "    return filtro(xd, estado_inicial, tipo, traductor(xi,omega)[0], traductor(xi,omega)[1], traductor(xi,omega)[2], Ts)"
   ]
  },
  {
   "cell_type": "markdown",
   "metadata": {
    "colab_type": "text",
    "id": "IV8Ol7afvZju"
   },
   "source": [
    "Aproximantes de la delta"
   ]
  },
  {
   "cell_type": "markdown",
   "metadata": {
    "colab_type": "text",
    "id": "mG_A_jUh00r5"
   },
   "source": [
    "$\\displaystyle\\delta(x)=\\lim_{m\\to\\infty} \\frac{\\sin(mx)}{\\pi x}\\qquad\\delta(x)=\\lim_{m\\to\\infty} \\frac{me^{-m^{2}x^{2}}}{\\sqrt{\\pi}}\\qquad\\delta(x) = \\lim_{\\varepsilon\\to 0}\\frac{1}{\\pi}\\frac{\\varepsilon}{x^{2}+\\varepsilon^{2}}\\qquad \\delta(x) = \\frac{1}{2L}+\\frac{1}{L}\\sum_{n=1}^{+\\infty} \\cos\\left[\\frac{n\\pi x}{L}\\right]$"
   ]
  },
  {
   "cell_type": "code",
   "execution_count": null,
   "metadata": {
    "colab": {},
    "colab_type": "code",
    "id": "kxNAMQNxvY6_"
   },
   "outputs": [],
   "source": [
    "def delta_1(m, t0, N, Ts):\n",
    "\n",
    "    salida = [ ]\n",
    "    t = 0\n",
    "\n",
    "    for i in range(N):\n",
    "        salida.append([t, np.sin(m*(t-t0))/(np.pi*(t-t0))])\n",
    "        t+=Ts\n",
    "    return salida"
   ]
  },
  {
   "cell_type": "code",
   "execution_count": null,
   "metadata": {
    "colab": {},
    "colab_type": "code",
    "id": "BGRO8gchwQcW"
   },
   "outputs": [],
   "source": [
    "def delta_2(m, t0, N, Ts):\n",
    "\n",
    "    salida = [ ]\n",
    "    t = 0\n",
    "    spi = np.sqrt(np.pi)\n",
    "\n",
    "    for i in range(N):\n",
    "        salida.append([t, m*np.exp(-(m*(t-t0))**2)/spi])\n",
    "        t+=Ts\n",
    "    return salida"
   ]
  },
  {
   "cell_type": "code",
   "execution_count": null,
   "metadata": {
    "colab": {},
    "colab_type": "code",
    "id": "3PoAAC2qw3j9"
   },
   "outputs": [],
   "source": [
    "def delta_3(e, t0, N, Ts):\n",
    "\n",
    "    salida = [ ]\n",
    "    t = 0\n",
    "    inv_pi = e/np.pi\n",
    "\n",
    "    for i in range(N):\n",
    "        salida.append([t,inv_pi/(t**2+e**2)])\n",
    "        t+=Ts\n",
    "    return salida"
   ]
  },
  {
   "cell_type": "code",
   "execution_count": null,
   "metadata": {
    "colab": {},
    "colab_type": "code",
    "id": "wKEpJpT5yMPn"
   },
   "outputs": [],
   "source": [
    "def delta_5(m,L,N,Ts):\n",
    "\n",
    "    salida = [ ]\n",
    "    t = 0\n",
    "  \n",
    "    for i in range(N):\n",
    "        valor = 1/(2*L)\n",
    "        for j in range(m):\n",
    "              valor += np.cos(j*np.pi*t/L)\n",
    "        salida.append([t,valor])\n",
    "        t += Ts\n",
    "\n",
    "    return salida"
   ]
  },
  {
   "cell_type": "code",
   "execution_count": null,
   "metadata": {
    "colab": {},
    "colab_type": "code",
    "id": "ncSahBVHxidF"
   },
   "outputs": [],
   "source": [
    "def delta_6(t0,N):\n",
    "    salida = sc.signal.unit_impulse(N,t0)\n",
    "    return salida"
   ]
  },
  {
   "cell_type": "code",
   "execution_count": null,
   "metadata": {
    "colab": {},
    "colab_type": "code",
    "id": "wAz-Jb8dTIm1"
   },
   "outputs": [],
   "source": [
    "def ejercicio_8():\n",
    "    \n",
    "    Ts = 0.0001\n",
    "    N = 1000\n",
    "    estado_inicial = [0,0]\n",
    "    test1=  filtro_traducido(delta_1(10, 10, N, Ts),estado_inicial, 'rc', np.sqrt(2)/2, 2, Ts)\n",
    "    test2=  filtro_traducido(delta_1(10, 10, N, Ts),estado_inicial, 'rc', np.sqrt(2)/2, 100, Ts)\n",
    "    test3=  filtro_traducido(delta_1(10, 10, N, Ts),estado_inicial, 'rc', 5, 2, Ts)\n",
    "    \n",
    "    graficar(test1, 'Tiempo (t)', 'Amplitud (V)','Ejercicio 8')\n",
    "    graficar(test2, 'Tiempo (t)', 'Amplitud (V)','Ejercicio 8')\n",
    "    graficar(test3, 'Tiempo (t)', 'Amplitud (V)','Ejercicio 8')\n",
    "    \n",
    "    graficar(fourier(test1), 'Tiempo (t)', 'Amplitud (V)','Ejercicio 8')\n",
    "    graficar(fourier(test2), 'Tiempo (t)', 'Amplitud (V)','Ejercicio 8')\n",
    "    graficar(fourier(test3), 'Tiempo (t)', 'Amplitud (V)','Ejercicio 8')"
   ]
  },
  {
   "cell_type": "code",
   "execution_count": null,
   "metadata": {
    "colab": {},
    "colab_type": "code",
    "id": "jsBYj90VWJo8"
   },
   "outputs": [],
   "source": [
    "def ejercicio_9():\n",
    "\n",
    "    N = 2000\n",
    "    f0 = 1000\n",
    "    ts = 0.001\n",
    "    \n",
    "    fase_1 = 0\n",
    "    fase_2 = np.pi/4\n",
    "    \n",
    "    onda_1 = fuente(f0, Ts, fase_1, N)\n",
    "    onda_2 = fuente(f0, Ts, fase_2, N)\n",
    "\n",
    "    onda_3 = detector(onda_1, onda_2)\n",
    "\n",
    "    for param in [[np.sqrt(2)/2, 2], [np.sqrt(2)/2, 100], [5, 2]]:    # Itera sobre los pares de parámetros que se piden\n",
    "        \n",
    "        resultado = filtro_traducido(onda_3,[0,0], 'rc', param[0], param[1], Ts)\n",
    "        graficar(resultado, 'Tiempo (s)', 'Amplitud (V)', 'Señal filtrada')\n",
    "        graficar(fourier(resultado, Ts), 'Frecuencia (Hz)', 'Amplitud (V)', 'FFT')\n",
    "    \n",
    "    return 0"
   ]
  },
  {
   "cell_type": "code",
   "execution_count": null,
   "metadata": {
    "colab": {},
    "colab_type": "code",
    "id": "uwnkt6uqmMh8"
   },
   "outputs": [],
   "source": [
    "def ejercicio_10():\n",
    "\n",
    "    N = 2000\n",
    "    f0 = 1000\n",
    "    Ts = 1/(100*f0)\n",
    "\n",
    "    fase_1 = 0\n",
    "    fase_2 = np.pi/4\n",
    "    \n",
    "    onda_1 = fuente(f0, Ts, fase_1, N)\n",
    "    onda_2 = fuente(f0, Ts, fase_2, N)\n",
    "\n",
    "    onda_3 = detector(onda_1, onda_2)\n",
    "\n",
    "    for param in [[np.sqrt(2)/2, 2], [np.sqrt(2)/2, 100], [0.1, 2]]:    # Itera sobre los pares de parámetros que se piden\n",
    "\n",
    "        resultado = filtro_traducido(onda_3,[0,0], 'lead-lag activo', param[0], param[1], Ts)\n",
    "        graficar(resultado, 'Tiempo (s)', 'Amplitud (V)', 'Señal filtrada')\n",
    "        graficar(fourier(resultado,Ts), 'Frecuencia (Hz)', 'Amplitud (V)', 'FFT')\n",
    "\n",
    "    return 0"
   ]
  },
  {
   "cell_type": "markdown",
   "metadata": {
    "colab_type": "text",
    "id": "CKDcgkQPmgsZ"
   },
   "source": [
    "# **5. Oscilador Controlado por Voltaje (VCO)**"
   ]
  },
  {
   "cell_type": "markdown",
   "metadata": {
    "colab_type": "text",
    "id": "ZO-nsQH_T0RC"
   },
   "source": [
    "**Ejercicio 11**"
   ]
  },
  {
   "cell_type": "code",
   "execution_count": null,
   "metadata": {
    "colab": {},
    "colab_type": "code",
    "id": "9gygJuayoBpD"
   },
   "outputs": [],
   "source": [
    "def fase(Ts,f,fase_inicial):\n",
    "    \n",
    "    fase = fase_inicial + 2*np.pi*f*Ts  # Calcula la fase según la fórmula (10)\n",
    "    fase_final = np.mod(fase, 2*np.pi)  # Asegura que el valor esté en (0, 2pi)\n",
    "    \n",
    "    return fase_final"
   ]
  },
  {
   "cell_type": "code",
   "execution_count": null,
   "metadata": {
    "colab": {},
    "colab_type": "code",
    "id": "6JIvts1jsbrr"
   },
   "outputs": [],
   "source": [
    "def vco(v, Ts, K, f0):\n",
    "\n",
    "    salida = []\n",
    "    ph = 2*np.pi*f0\n",
    "   \n",
    "    for i in range(len(v)):\n",
    "        ph = fase(Ts, f0+K*v[i][1], ph)\n",
    "        salida.append( [v[i][0], np.sin(ph)] )\n",
    "    \n",
    "    return salida"
   ]
  },
  {
   "cell_type": "markdown",
   "metadata": {
    "colab_type": "text",
    "id": "rxVM6RbUwlGD"
   },
   "source": [
    "**Ejercicios 12, 13 y 14**"
   ]
  },
  {
   "cell_type": "code",
   "execution_count": null,
   "metadata": {
    "colab": {},
    "colab_type": "code",
    "id": "8cfSpDd-t390"
   },
   "outputs": [],
   "source": [
    "N = 1000                    # Númerto total de muestras\n",
    "f0 = 1000                   # Frecuencia central de oscilación del VCO\n",
    "fmod = 40                   # Frecuencia de la señal moduladora (o de control)\n",
    "fs = 10*f0                  # Frecuencia de muestro\n",
    "fase_inicial = 0\n",
    "Ts = 1/fs                   # Período de muestreo\n",
    "\n",
    "onda_mod = fuente(fmod, Ts, fase_inicial, N)                                 # Fabrica la onda moduladora\n",
    "\n",
    "graficar(onda_mod, 'Tiempo (s)', 'Amplitud (V)', 'Señal filtrada')\n",
    "graficar(fourier(onda_mod, Ts), 'Frecuencia (Hz)', 'Amplitud (V)', 'FFT')\n",
    "\n",
    "for i in [0,1000]:\n",
    "    salida_mod = vco(onda_mod, Ts, i, f0)                           # Pasa la onda moduladora por un VCO con K=0\n",
    "\n",
    "    graficar(salida_mod, 'Tiempo (s)', 'Amplitud (V)', 'Señal filtrada')\n",
    "    graficar(fourier(salida_mod, Ts), 'Frecuencia (Hz)', 'Amplitud (V)', 'FFT')"
   ]
  },
  {
   "cell_type": "markdown",
   "metadata": {
    "colab_type": "text",
    "id": "NCcYpQKhmmg8"
   },
   "source": [
    "# **6. Lazo Enganchado en Fase**"
   ]
  },
  {
   "cell_type": "code",
   "execution_count": null,
   "metadata": {
    "colab": {},
    "colab_type": "code",
    "id": "rkK41twXx1N4"
   },
   "outputs": [],
   "source": [
    "def PLL(xr, tipo, xi, omega, f0, K, Ts):\n",
    "\n",
    "    xc = [[-Ts,0]] # Antes de entrar la señal, los pasos intermedios son cero\n",
    "    xv = [[-Ts,0]] # Para el detector de fase\n",
    "\n",
    "    for i in range(len(xr)):\n",
    "        xd = detector([xr[i]], [xv[-1]])                                # 1ro. el detector de fase\n",
    "        xc = filtro_traducido(xd, xc[-1], tipo, xi, omega, Ts)          # 2do. el filtro\n",
    "        xv.append(vco([xc[-1]], Ts, K, f0)[-1])                         # 3ro. el VCO\n",
    "    \n",
    "    return xv"
   ]
  },
  {
   "cell_type": "code",
   "execution_count": null,
   "metadata": {
    "colab": {},
    "colab_type": "code",
    "id": "TpIcHL0dzHku"
   },
   "outputs": [],
   "source": [
    "f0 = 1000\n",
    "fase_inicial = np.pi/2\n",
    "N = 3000\n",
    "f_muestreo = 100*f0\n",
    "Ts = 1/f_muestreo\n",
    "estado_inicial = [0,0]\n",
    "\n",
    "onda_entrada = fuente(f0,Ts,fase_inicial, N)\n",
    "\n",
    "for xi in [np.sqrt(2)/2, 0.3, 2.0]:\n",
    "    onda_salida  = filtro_traducido(onda_entrada, estado_inicial, 'rc', xi, 180)\n",
    "    graficar(onda_salida, 'Tiempo (s)', 'Amplitud (V)', 'Señal filtrada')\n",
    "    graficar_lissajous(onda_entrada, onda_salida, 'Tiempo (s)', 'Amplitud (V)', 'Señal filtrada')\n",
    "    graficar_error(onda_entrada, onda_salida, 'Tiempo (s)', 'Amplitud (V)', 'Error señal')"
   ]
  },
  {
   "cell_type": "code",
   "execution_count": null,
   "metadata": {},
   "outputs": [],
   "source": []
  },
  {
   "cell_type": "code",
   "execution_count": null,
   "metadata": {},
   "outputs": [],
   "source": [
    "def ejercicio_17():\n",
    "\n",
    "    onda_salida  = filtro_traducido(onda_entrada, estado_inicial, 'rc', np.sqrt(2)/2, 120, f0, K, Ts)\n",
    "    graficar(onda_salida, 'Tiempo (s)', 'Amplitud (V)', 'Señal filtrada')\n",
    "    graficar_lissajous(onda_entrada, onda_salida, 'Tiempo (s)', 'Amplitud (V)', 'Señal filtrada')\n",
    "    graficar_error(onda_entrada, onda_salida, 'Tiempo (s)', 'Amplitud (V)', 'Error señal')"
   ]
  },
  {
   "cell_type": "code",
   "execution_count": null,
   "metadata": {},
   "outputs": [],
   "source": [
    "def ejercicio_18():\n",
    "\n",
    "    onda_salida  = PLL(onda_entrada, 'lead-lag activo', estado_inicial, np.sqrt(2)/2, 40, f0, K, Ts)\n",
    "    graficar(onda_salida, 'Tiempo (s)', 'Amplitud (V)', 'Señal filtrada')\n",
    "    graficar_lissajous(onda_entrada, onda_salida, 'Tiempo (s)', 'Amplitud (V)', 'Señal filtrada')\n",
    "    graficar_error(onda_entrada, onda_salida, 'Tiempo (s)', 'Amplitud (V)', 'Error señal')\n"
   ]
  },
  {
   "cell_type": "code",
   "execution_count": null,
   "metadata": {},
   "outputs": [],
   "source": [
    "def ejercicio_19():\n",
    "\n",
    "onda_salida  = PLL(onda_entrada, 'lead-lag activo', estado_inicial, np.sqrt(2)/2, 120, f0, K, Ts)\n",
    "graficar(onda_salida, 'Tiempo (s)', 'Amplitud (V)', 'Señal filtrada')\n",
    "graficar_lissajous(onda_entrada, onda_salida, 'Tiempo (s)', 'Amplitud (V)', 'Señal filtrada')\n",
    "graficar_error(onda_entrada, onda_salida, 'Tiempo (s)', 'Amplitud (V)', 'Error señal')"
   ]
  },
  {
   "cell_type": "markdown",
   "metadata": {
    "colab_type": "text",
    "id": "mcvZOk_Jm-qF"
   },
   "source": [
    "**6.1 Errores de fase**"
   ]
  },
  {
   "cell_type": "code",
   "execution_count": null,
   "metadata": {
    "colab": {},
    "colab_type": "code",
    "id": "-Oh1wRCuH3C9"
   },
   "outputs": [],
   "source": [
    "onda_error  = fuente(f0,Ts,fase_inicial, N//2) + fuente(f0,Ts,fase_inicial + np.pi/4, N//2)"
   ]
  },
  {
   "cell_type": "code",
   "execution_count": null,
   "metadata": {
    "colab": {},
    "colab_type": "code",
    "id": "FEO2P4uN86gu"
   },
   "outputs": [],
   "source": [
    "def ejercicio_20():\n",
    "\n",
    "    f0 = 1000\n",
    "    fase_inicial = np.pi/2\n",
    "    N = 3000\n",
    "    f_muestreo = 100*f0\n",
    "    Ts = 1/f_muestreo\n",
    "    K= 1 # no hay un valor definido de él para este inciso.\n",
    "\n",
    "    onda_salida = PLL(onda_error, 'rc', 2, 220, f0, K, Ts)\n",
    "    graficar(onda_salida, 'Tiempo (s)', 'Amplitud (V)', 'Señal filtrada')\n",
    "    graficar_lissajous(onda_entrada, onda_salida, 'Tiempo (s)', 'Amplitud (V)', 'Señal filtrada')\n",
    "    graficar_error(onda_entrada, onda_salida, 'Tiempo (s)', 'Amplitud (V)', 'Error señal')\n",
    "\n",
    "    return 0"
   ]
  },
  {
   "cell_type": "code",
   "execution_count": null,
   "metadata": {
    "colab": {},
    "colab_type": "code",
    "id": "vRPS-jxiGENi"
   },
   "outputs": [],
   "source": [
    "def ejercicio_21():\n",
    "\n",
    "    f0 = 1000\n",
    "    fase_inicial = np.pi/2\n",
    "    N = 3000\n",
    "    f_muestreo = 100*f0\n",
    "    Ts = 1/f_muestreo\n",
    "    K = 1 # no hay un valor definido de él para este inciso.\n",
    "\n",
    "    onda_salida = PLL(onda_error, 'rc', np.sqrt(2)/2, 220, f0, K, Ts)\n",
    "    graficar(onda_salida, 'Tiempo (s)', 'Amplitud (V)', 'Señal filtrada')\n",
    "    graficar_lissajous(onda_entrada, onda_salida)\n",
    "    graficar_error(onda_entrada, onda_salida)\n",
    "\n",
    "    return 0"
   ]
  },
  {
   "cell_type": "code",
   "execution_count": null,
   "metadata": {
    "colab": {},
    "colab_type": "code",
    "id": "bSiQerFBHfzF"
   },
   "outputs": [],
   "source": [
    "def ejercicio_22():\n",
    "\n",
    "    f0 = 1000\n",
    "    fase_inicial = np.pi/2\n",
    "    N = 3000\n",
    "    f_muestreo = 100*f0\n",
    "    Ts = 1/f_muestreo\n",
    "    K = 1 #no hay un valor definido de él para este inciso.\n",
    "\n",
    "    onda_salida = PLL(onda_error, 'lead-lag activo', np.sqrt(2)/2, 220, f0, K, Ts)\n",
    "    graficar(onda_salida, 'Tiempo (s)', 'Amplitud (V)', 'Señal filtrada')\n",
    "    graficar_lissajous(onda_entrada, onda_salida)\n",
    "    graficar_error(onda_entrada, onda_salida)\n",
    "\n",
    "    return 0"
   ]
  },
  {
   "cell_type": "code",
   "execution_count": null,
   "metadata": {
    "colab": {},
    "colab_type": "code",
    "id": "E_MKXwCWHl61"
   },
   "outputs": [],
   "source": [
    "def ejercicio_23():\n",
    "\n",
    "    f0 = 1000\n",
    "    fase_inicial = np.pi/2\n",
    "    N = 3000\n",
    "    f_muestreo = 100*f0\n",
    "    Ts = 1/f_muestreo\n",
    "    K= 1 #no hay un valor definido de él para este inciso.\n",
    "  \n",
    "    onda_salida = PLL(onda_error, 'rc', np.sqrt(2)/2, 180, f0, K, Ts)\n",
    "    graficar(onda_salida, 'Tiempo (s)', 'Amplitud (V)', 'Señal filtrada')\n",
    "    graficar_lissajous(onda_entrada, onda_salida)\n",
    "    graficar_error(onda_entrada, onda_salida)\n",
    "\n",
    "    return 0"
   ]
  },
  {
   "cell_type": "code",
   "execution_count": null,
   "metadata": {
    "colab": {},
    "colab_type": "code",
    "id": "6qI1vTSVHuaD"
   },
   "outputs": [],
   "source": [
    "#onda_error  = fuente(f0,Ts,fase_inicial, N//2) + fuente(f0,Ts,fase_inicial + np.pi, N//2)"
   ]
  },
  {
   "cell_type": "code",
   "execution_count": null,
   "metadata": {
    "colab": {},
    "colab_type": "code",
    "id": "EHYkDT5DIElm"
   },
   "outputs": [],
   "source": [
    "def ejercicio_24():\n",
    "\n",
    "    f0 = 1000\n",
    "    fase_inicial = np.pi/2\n",
    "    N = 3000\n",
    "    f_muestreo = 100*f0\n",
    "    Ts = 1/f_muestreo\n",
    "    K= 1 #no hay un valor definido de él para este inciso.\n",
    "\n",
    "    onda_error  = fuente(f0,Ts,fase_inicial, N//2) + fuente(f0,Ts,fase_inicial + np.pi, N//2)\n",
    "\n",
    "    onda_salida = PLL(onda_error, 'rc', 2, 220, f0, K, Ts)\n",
    "    graficar(onda_salida, 'Tiempo (s)', 'Amplitud (V)', 'Señal filtrada')\n",
    "    graficar_lissajous(onda_entrada, onda_salida)\n",
    "    graficar_error(onda_entrada, onda_salida)\n",
    "\n",
    "    return 0"
   ]
  },
  {
   "cell_type": "code",
   "execution_count": null,
   "metadata": {
    "colab": {},
    "colab_type": "code",
    "id": "xa_C0ZI8IMTl"
   },
   "outputs": [],
   "source": [
    "def ejercicio_25():\n",
    "\n",
    "    f0 = 1000\n",
    "    fase_inicial = np.pi/2\n",
    "    N = 3000\n",
    "    f_muestreo = 100*f0\n",
    "    Ts = 1/f_muestreo\n",
    "    K = 1 #no hay un valor definido de él para este inciso.\n",
    "\n",
    "    onda_salida = PLL(onda_error, 'lead-lag activo', np.sqrt(2)/2, 180, f0, K, Ts)\n",
    "    graficar(onda_salida, 'Tiempo (s)', 'Amplitud (V)', 'Señal filtrada')\n",
    "    graficar_lissajous(onda_entrada, onda_salida)\n",
    "    graficar_error(onda_entrada, onda_salida)\n",
    "\n",
    "    return 0"
   ]
  },
  {
   "cell_type": "markdown",
   "metadata": {
    "colab_type": "text",
    "id": "dRnOSrFhm6hr"
   },
   "source": [
    "**6.2 Errores de frecuencia**"
   ]
  },
  {
   "cell_type": "code",
   "execution_count": null,
   "metadata": {
    "colab": {},
    "colab_type": "code",
    "id": "7_SsaQZhdJTU"
   },
   "outputs": [],
   "source": [
    "onda_error = fuente(f0, Ts, fase_inicial, N//2) + fuente(f0*1.1, Ts, fase_inicial + np.pi, N//2)  "
   ]
  },
  {
   "cell_type": "code",
   "execution_count": null,
   "metadata": {
    "colab": {},
    "colab_type": "code",
    "id": "uEQ2k6STI6Ls"
   },
   "outputs": [],
   "source": [
    "def ejercicio_26_a_28(wn):\n",
    "  \n",
    "    f0 = 1000\n",
    "    fase_inicial = np.pi/2\n",
    "    N = 3000\n",
    "    f_muestreo = 100*f0\n",
    "    Ts = 1/f_muestreo\n",
    "    K= 1 #no hay un valor definido de él para este inciso.\n",
    "\n",
    "    onda_salida = PLL(onda_error, 'rc', np.sqrt(2)/2, wn, f0, K, Ts)\n",
    "    graficar(onda_salida, 'Tiempo (s)', 'Amplitud (V)', 'Señal filtrada')\n",
    "    graficar_lissajous(onda_entrada, onda_salida)#, 'Tiempo (s)', 'Amplitud (V)', 'Señal filtrada')\n",
    "    graficar_error(onda_entrada, onda_salida)\n",
    "\n",
    "    return 0"
   ]
  },
  {
   "cell_type": "code",
   "execution_count": null,
   "metadata": {
    "colab": {},
    "colab_type": "code",
    "id": "8ced9dK6JIuD"
   },
   "outputs": [],
   "source": [
    "ejercicio_26_a_28(220)\n",
    "ejercicio_26_a_28(450)\n",
    "ejercicio_26_a_28(450) # Posible error en el enunciado"
   ]
  },
  {
   "cell_type": "code",
   "execution_count": null,
   "metadata": {
    "colab": {},
    "colab_type": "code",
    "id": "fmVMjeccKBO5"
   },
   "outputs": [],
   "source": [
    "def ejercicio_29_a_31(wn):\n",
    "\n",
    "    f0 = 1000\n",
    "    fase_inicial = np.pi/2\n",
    "    N = 3000\n",
    "    f_muestreo = 100*f0\n",
    "    Ts = 1/f_muestreo\n",
    "    K= 1 #no hay un valor definido de él para este inciso.\n",
    "\n",
    "    onda_salida = PLL(onda_error, 'lead-lag activo', np.sqrt(2)/2, wn, f0, K, Ts)\n",
    "    graficar(onda_salida, 'Tiempo (s)', 'Amplitud (V)', 'Señal filtrada')\n",
    "    graficar_lissajous(onda_entrada, onda_salida)\n",
    "    graficar_error(onda_entrada, onda_salida)\n",
    "\n",
    "    return 0"
   ]
  },
  {
   "cell_type": "code",
   "execution_count": null,
   "metadata": {
    "colab": {},
    "colab_type": "code",
    "id": "7jKzWxLxKLWS"
   },
   "outputs": [],
   "source": [
    "ejercicio_29_a_31(180)\n",
    "ejercicio_29_a_31(120)\n",
    "ejercicio_29_a_31(80)"
   ]
  },
  {
   "cell_type": "code",
   "execution_count": null,
   "metadata": {
    "colab": {},
    "colab_type": "code",
    "id": "4O43UhRpKXSG"
   },
   "outputs": [],
   "source": [
    "def ejercicio_32():\n",
    "\n",
    "    onda_error = fuente(f0*1.03,Ts,fase_inicial, N//2) + fuente(f0*1.03, Ts, fase_inicial + np.pi, N//2)\n",
    "\n",
    "    ejercicio_26_a_28(220)\n",
    "    ejercicio_26_a_28(450)\n",
    "    ejercicio_26_a_28(450)\n",
    "    \n",
    "    ejercicio_29_a_31(180)\n",
    "    ejercicio_29_a_31(120)\n",
    "    ejercicio_29_a_31(80)\n",
    "\n",
    "    return 0"
   ]
  },
  {
   "cell_type": "markdown",
   "metadata": {
    "colab_type": "text",
    "id": "kX9LQVx9m2jK"
   },
   "source": [
    "**6.3 Rampa en frecuencia**"
   ]
  },
  {
   "cell_type": "markdown",
   "metadata": {
    "colab_type": "text",
    "id": "NH7Mzl2icNV-"
   },
   "source": [
    "**Ejercicio 33**"
   ]
  },
  {
   "cell_type": "code",
   "execution_count": null,
   "metadata": {
    "colab": {},
    "colab_type": "code",
    "id": "As_1nq0H87Eg"
   },
   "outputs": [],
   "source": [
    "def fuente_fvar(f_inicial, f_final, Ts, fase_inicial, N):\n",
    "    \n",
    "    salida = []\n",
    "    m = (f_final-f_inicial)/(N-1)                                  # Se puede dividir por tiempo. En ese caso hay que corregir por que se multiplica abajo.\n",
    "\n",
    "    for i in range(N):\n",
    "        \n",
    "        f = f_inicial+m*i\n",
    "        salida.append([i*Ts,np.sin(2*np.pi*f*i*Ts + fase_inicial)])  # Añade un nuevo punto a la lista.\n",
    "\n",
    "    return salida"
   ]
  },
  {
   "cell_type": "code",
   "execution_count": null,
   "metadata": {
    "colab": {},
    "colab_type": "code",
    "id": "iC76wxu3Md6Q"
   },
   "outputs": [],
   "source": [
    "def ejercicio_33():\n",
    "  \n",
    "    f0 = 1000\n",
    "    Ts = 1/(100*f0)\n",
    "    N  = 1000\n",
    "  \n",
    "    fase_inicial = np.pi/2\n",
    "    onda_entrada = fuente_fvar(f0, 1.1*f0, Ts, fase_inicial, N)    #falta valores de N y Ts para que se ejecute.\n",
    "    \n",
    "    return onda_entrada"
   ]
  },
  {
   "cell_type": "code",
   "execution_count": null,
   "metadata": {
    "colab": {},
    "colab_type": "code",
    "id": "kR-OULFqPb7t"
   },
   "outputs": [],
   "source": [
    "def ejercicio_34():\n",
    "\n",
    "    onda_salida = PLL(onda_entrada, 'rc', np.sqrt(2)/2, 450, f0, K, Ts)\n",
    "    graficar(onda_salida, 'Tiempo (s)', 'Amplitud (V)', 'Señal filtrada')\n",
    "    graficar_lissajous(onda_entrada, onda_salida)\n",
    "    graficar_error(onda_entrada, onda_salida)\n",
    "\n",
    "    return 0"
   ]
  },
  {
   "cell_type": "code",
   "execution_count": null,
   "metadata": {
    "colab": {},
    "colab_type": "code",
    "id": "6UJNpTC9PvS4"
   },
   "outputs": [],
   "source": [
    "def ejercicio_35():\n",
    "\n",
    "    onda_salida = PLL(onda_entrada, 'lead-lag activo', np.sqrt(2)/2, 180, f0, K, Ts)\n",
    "    graficar(onda_salida, 'Tiempo (s)', 'Amplitud (V)', 'Señal filtrada')\n",
    "    graficar_lissajous(onda_entrada, onda_salida)\n",
    "    graficar_error(onda_entrada, onda_salida)\n",
    "    \n",
    "    return 0"
   ]
  },
  {
   "cell_type": "code",
   "execution_count": null,
   "metadata": {
    "colab": {},
    "colab_type": "code",
    "id": "aB3yWdyvP1aq"
   },
   "outputs": [],
   "source": [
    "def ejercicio_36():\n",
    "\n",
    "    onda_salida = PLL(onda_entrada, 'lead-lag activo', np.sqrt(2)/2, 280, f0, K, Ts)\n",
    "    graficar(onda_salida, 'Tiempo (s)', 'Amplitud (V)', 'Señal filtrada')\n",
    "    graficar_lissajous(onda_entrada, onda_salida)#, 'Tiempo (s)', 'Amplitud (V)', 'Señal filtrada')\n",
    "    graficar_error(onda_entrada, onda_salida)#, 'Tiempo (s)', 'Amplitud (V)', 'Error señal')\n",
    "\n",
    "    return 0"
   ]
  },
  {
   "cell_type": "markdown",
   "metadata": {
    "colab_type": "text",
    "id": "8QdPbbNDmmuJ"
   },
   "source": [
    "**6.4 Demodulación Coherente de una Señal**"
   ]
  },
  {
   "cell_type": "markdown",
   "metadata": {
    "colab_type": "text",
    "id": "InOtRsHY4RKT"
   },
   "source": [
    "Primer parte: estructura del transmisor"
   ]
  },
  {
   "cell_type": "code",
   "execution_count": null,
   "metadata": {
    "colab": {},
    "colab_type": "code",
    "id": "AeXla-mD87OK"
   },
   "outputs": [],
   "source": [
    "def gen_cod(Ts, Tb, N):\n",
    "\n",
    "    salida = []\n",
    "    step = int(Tb/Ts)\n",
    "\n",
    "    for i in range(0,N,step):\n",
    "      \n",
    "        valor = np.round(np.random.rand())\n",
    "        \n",
    "        for j in range(i,i+step):\n",
    "          \n",
    "            salida.append([Ts*j,valor])\n",
    "\n",
    "    return salida"
   ]
  },
  {
   "cell_type": "code",
   "execution_count": null,
   "metadata": {
    "colab": {},
    "colab_type": "code",
    "id": "ukVhxkM1aRHX"
   },
   "outputs": [],
   "source": [
    "def ejercicio_37():\n",
    "  \n",
    "    Nd = 10         # Cantidad de pulsos\n",
    "    fs = 200        # Frecuencia de muestreo\n",
    "    Tb = 2          # Período pulsos\n",
    "    Ts = 1/fs       # Período muestreo\n",
    "    N  = Nd*Tb*fs   # Cantidad de muestras\n",
    "\n",
    "    salida_gen = gen_cod(Ts, Tb, N)\n",
    "    graficar(salida_gen, 'Tiempo (s)', 'Amplitud (V)', 'Salida del Generador de Código', 'gen_cod')\n",
    "\n",
    "    return 0"
   ]
  },
  {
   "cell_type": "code",
   "execution_count": null,
   "metadata": {
    "colab": {},
    "colab_type": "code",
    "id": "4cB0VGuLXLCW"
   },
   "outputs": [],
   "source": [
    "def respuesta_filtro(N,a,Tb,Fs):\n",
    "\n",
    "    lista = rcosfilter(N, a, Tb, Fs)\n",
    "\n",
    "    respuesta = []\n",
    "\n",
    "    for i in range(N):\n",
    "        respuesta.append([lista[0][i], lista[1][i]])\n",
    "\n",
    "    return respuesta"
   ]
  },
  {
   "cell_type": "markdown",
   "metadata": {
    "colab_type": "text",
    "id": "eGe2FugDa_P2"
   },
   "source": [
    "**Ejercicio 38**"
   ]
  },
  {
   "cell_type": "code",
   "execution_count": null,
   "metadata": {
    "colab": {},
    "colab_type": "code",
    "id": "cHjXHQdhj5Zm"
   },
   "outputs": [],
   "source": [
    "def ejercicio_38():\n",
    "    \n",
    "    Fs = 1\n",
    "    a = 0.5\n",
    "    N = 100\n",
    "    Tb = 20\n",
    "\n",
    "    respuesta = respuesta_filtro(N, a, Tb, Fs)\n",
    "          \n",
    "    graficar(respuesta,'Tiempo (s)', 'Amplitud (V)', 'Filtrado')\n",
    "    graficar(fourier(respuesta),'Tiempo (s)', 'Amplitud (V)', 'Filtrado')"
   ]
  },
  {
   "cell_type": "markdown",
   "metadata": {
    "colab_type": "text",
    "id": "_l5C3ZlRa3Wm"
   },
   "source": [
    "**Ejercicio 39**"
   ]
  },
  {
   "cell_type": "code",
   "execution_count": null,
   "metadata": {
    "colab": {},
    "colab_type": "code",
    "id": "DIhvGpBp04FM"
   },
   "outputs": [],
   "source": [
    "def ejercicio_39_y_40(Tb):\n",
    "    \n",
    "    N = 1000\n",
    "    Fs = 1\n",
    "    a = 0.5\n",
    "    Tb = 20\n",
    "      \n",
    "    lista = rcosfilter(N, a, Tb, Fs)\n",
    "      \n",
    "    transferencia = []\n",
    "    for i in range(N):\n",
    "        transferencia.append([lista[0][i], lista[1][i]])\n",
    "      \n",
    "    graficar(transferencia,'Tiempo (s)', 'Amplitud (V)', 'Transferencia')\n",
    "    \n",
    "ejercicio_39_y_40(2)\n",
    "ejercicio_39_y_40(1)"
   ]
  },
  {
   "cell_type": "markdown",
   "metadata": {
    "colab_type": "text",
    "id": "XX2sjtAqZ2N3"
   },
   "source": [
    "**Ejercicio 40**"
   ]
  },
  {
   "cell_type": "code",
   "execution_count": null,
   "metadata": {
    "colab": {},
    "colab_type": "code",
    "id": "GqqSDFua14wf"
   },
   "outputs": [],
   "source": [
    "def ejercicio_40():\n",
    "\n",
    "    Fs = 1\n",
    "    a  = 0.5\n",
    "    N  = 100\n",
    "    Tb = 1\n",
    "\n",
    "    respuesta = respuesta_filtro(N, a, Tb, Fs)\n",
    "          \n",
    "    graficar(respuesta,'Tiempo (s)', 'Amplitud (V)', 'Filtrado')\n",
    "\n",
    "    lista = rcosfilter(N, a, Tb, Fs)\n",
    "      \n",
    "    transferencia = []\n",
    "    for i in range(N):\n",
    "        transferencia.append([lista[0][i], lista[1][i]])\n",
    "\n",
    "    graficar(transferencia,'Tiempo (s)', 'Amplitud (V)', 'Transferencia')"
   ]
  },
  {
   "cell_type": "markdown",
   "metadata": {
    "colab_type": "text",
    "id": "HT54DSlXZ7YK"
   },
   "source": [
    "**Ejercicio 41**"
   ]
  },
  {
   "cell_type": "code",
   "execution_count": null,
   "metadata": {
    "colab": {},
    "colab_type": "code",
    "id": "9Nb9GpRt2hDA"
   },
   "outputs": [],
   "source": [
    "def ejercicio_41():\n",
    "\n",
    "    m = 1             # Índice de modulación\n",
    "    f0 = 1000         # Frecuencia de la portadora\n",
    "\n",
    "    salida_mod = []\n",
    "\n",
    "    for i in range(len(respuesta)):\n",
    "        salida_mod.append([respuesta[i][0], np.sin(2*np.pi*f0*respuesta[i][0])*m*respuesta[i][0]])\n",
    "      \n",
    "    graficar(salida_mod, 'Tiempo (s)', 'Amplitud (V)', 'Señal de salida modulada')"
   ]
  },
  {
   "cell_type": "markdown",
   "metadata": {
    "colab_type": "text",
    "id": "UcMjOYJg4bR5"
   },
   "source": [
    "Segunda parte: estructura del receptor"
   ]
  },
  {
   "cell_type": "code",
   "execution_count": null,
   "metadata": {
    "colab": {},
    "colab_type": "code",
    "id": "_YQnAZv_MSr3"
   },
   "outputs": [],
   "source": [
    "def emisor(Tb=2, a=0.5, f0=1000, m=1):\n",
    "\n",
    "    Nd = 10         # Cantidad de pulsos\n",
    "    fs = 200        # Frecuencia de muestreo\n",
    "\n",
    "#    Tb = 2          # Período pulsos\n",
    "#    f0 = 1000   # Frecuencia de la onda portadora\n",
    "#    m = 1       # Índice de modulación\n",
    "\n",
    "    Ts = 1/fs       # Período muestreo\n",
    "    N = Nd*Tb*fs    # Cantidad de muestras\n",
    "\n",
    "    Fs = 1  #\n",
    "\n",
    "    onda_cod = gen_cod(Ts, Tb, N)               # Genera la onda con la información\n",
    "\n",
    "    respuesta = respuesta_filtro(2*N,a,Ts,2*Fs) # Genera la respuesta del filtro a un pulso\n",
    "    \n",
    "    onda_salida = []                            # Genera la onda que saldrá del emisor\n",
    "    \n",
    "    for i in range(N):\n",
    "        valor = 0\n",
    "        for j in range(N):\n",
    "            valor += onda_cod[j][1]*respuesta[4000+i-j][1]  # Genera el valor del filtro\n",
    "        onda_salida.append([onda_cod[i][0],np.sin(2*np.pi*f0*onda_cod[i][0])*valor]) # Junta la señal inicial, el filtro y la portadora.\n",
    "\n",
    "    return onda_salida"
   ]
  },
  {
   "cell_type": "code",
   "execution_count": null,
   "metadata": {
    "colab": {},
    "colab_type": "code",
    "id": "IX_AaxP24OEr"
   },
   "outputs": [],
   "source": [
    "# La portadora del transmisor será de 1.05*f0."
   ]
  },
  {
   "cell_type": "code",
   "execution_count": null,
   "metadata": {
    "colab": {},
    "colab_type": "code",
    "id": "b5_NCl1BIWAt"
   },
   "outputs": [],
   "source": [
    "def ejercicios_42_a_45(tipo, omega, K):\n",
    "\n",
    "    xr = emisor(2, 0.5, 1050, 1)\n",
    "    xi = np.sqrt(2)/2\n",
    "\n",
    "    salida_pll = PLL(xr, tipo, xi, omega, f0, K, Ts)\n",
    "\n",
    "    R1 = 1/(2*np.pi*(0.6)*f0)    # Valores algo arbitrarios.\n",
    "    R2 = 0\n",
    "    C  = 1\n",
    "\n",
    "    salida_detector = filtro(salida_pll, estado_inicial, 'rc', C, R1, R2, Ts)\n",
    "\n",
    "    Fs = 1\n",
    "    a = 0.5\n",
    "    fs = 200\n",
    "    Tb = 1/fs\n",
    "    N = 4000\n",
    "\n",
    "    respuesta = 1*respuesta_filtro(8000,a,Tb,Fs)    # Genera la respuesta del filtro a un pulso\n",
    "    #debe ser multiplicado por 0.01\n",
    "    \n",
    "    salida_filtro = []                            # Genera la onda que saldrá del emisor\n",
    "    \n",
    "    for i in range(N):\n",
    "        valor = 0\n",
    "        for j in range(N):\n",
    "            valor += salida_detector[j][1]*respuesta[4000+i-j][1]  # Genera el valor del filtro\n",
    "        salida_filtro.append([salida_detector[i][0],valor])        # Junta la señal inicial y el filtro\n",
    "    \n",
    "    graficar(salida_pll,'Tiempo (s)', 'Amplitud (V)', 'Salida del PLL')\n",
    "    graficar(salida_detector,'Tiempo (s)', 'Amplitud (V)', 'Salida del detector rc')\n",
    "    graficar(salida_filtro,'Tiempo (s)', 'Amplitud (V)', 'Salida del filtro FIR')\n",
    "    graficar_lissajous(xr, salida_pll)\n",
    "    graficar_lissajous(xr, salida_detector)\n",
    "    graficar_lissajous(xr, salida_filtro)"
   ]
  },
  {
   "cell_type": "code",
   "execution_count": null,
   "metadata": {
    "colab": {},
    "colab_type": "code",
    "id": "idx1OF8OhtBc"
   },
   "outputs": [],
   "source": [
    "ejercicios_42_a_45('rc', 120, 100)\n",
    "ejercicios_42_a_45('rc', 220, 100)\n",
    "ejercicios_42_a_45('rc', 450, 100)\n",
    "ejercicios_42_a_45('lead-lag activo', 450, 100)"
   ]
  },
  {
   "cell_type": "markdown",
   "metadata": {
    "colab_type": "text",
    "id": "2v8rT8qRnIOv"
   },
   "source": [
    "# **Apéndice**"
   ]
  },
  {
   "cell_type": "code",
   "execution_count": null,
   "metadata": {
    "colab": {},
    "colab_type": "code",
    "id": "t3kGgMjT2aOz"
   },
   "outputs": [],
   "source": [
    "def suma_lista(v,w):\n",
    "    suma = []\n",
    "    for i in range(len(v)):\n",
    "        suma.append([v[i][0],v[i][1]+w[i][1]])\n",
    "\n",
    "    return suma"
   ]
  },
  {
   "cell_type": "code",
   "execution_count": null,
   "metadata": {
    "colab": {},
    "colab_type": "code",
    "id": "mVld2anVFP7D"
   },
   "outputs": [],
   "source": [
    "def unir_lista(v,w):\n",
    "    \n",
    "    t = v[-1][0]\n",
    "    suma = v\n",
    "\n",
    "    for i in range(len(w)):\n",
    "        suma.append([t+w[i][0],w[i][1]])\n",
    "\n",
    "    return suma"
   ]
  },
  {
   "cell_type": "markdown",
   "metadata": {
    "colab_type": "text",
    "id": "B-XhhykAZeED"
   },
   "source": [
    "Transformada de Fourier"
   ]
  },
  {
   "cell_type": "code",
   "execution_count": null,
   "metadata": {
    "colab": {},
    "colab_type": "code",
    "id": "9toYTCrdZdCa"
   },
   "outputs": [],
   "source": [
    "def fourier(v,Ts):\n",
    "\n",
    "    entrada = []\n",
    "    salida = []\n",
    "\n",
    "    for elem in v:\n",
    "        entrada.append(elem[1])\n",
    "\n",
    "    yfreq = fftpack.fft(entrada)    #\n",
    "    yfreq = fftpack.fftshift(yfreq) # Ordena el vector yfreq para poder usarlo\n",
    "\n",
    "    xfreq = fftpack.fftfreq(len(v),Ts)\n",
    "    xfreq = fftpack.fftshift(xfreq)\n",
    "\n",
    "    for i in range(len(entrada)):          # Fabrica los pares (x,y)\n",
    "        salida.append([xfreq[i], np.abs(yfreq[i])]) # Puede tomar parte real o imaginaria\n",
    "\n",
    "    return salida"
   ]
  },
  {
   "cell_type": "markdown",
   "metadata": {
    "colab_type": "text",
    "id": "VJ_kA6xVcob4"
   },
   "source": [
    "Gráficas en Latex"
   ]
  },
  {
   "cell_type": "code",
   "execution_count": null,
   "metadata": {
    "colab": {},
    "colab_type": "code",
    "id": "n0a6REmjcnBQ"
   },
   "outputs": [],
   "source": [
    "def graficar(v, leyenda_x='x', leyenda_y='y', encabezado='Grafica', nombre_archivo='untitle', referencia='Tension'):\n",
    "    \n",
    "    x = []\n",
    "    y = []\n",
    "    \n",
    "    for i in range(len(v)):\n",
    "        x.append(v[i][0])\n",
    "        y.append(v[i][1])\n",
    "         \n",
    "    # use LaTeX fonts in the plot\n",
    "    plt.rc('text', usetex=True)\n",
    "    plt.rc('font', family='serif')\n",
    "     \n",
    "    f = plt.figure()\n",
    "    \n",
    "    # plot\n",
    "    plt.plot(x, y, label=referencia)\n",
    "#   set labels (LaTeX can be used)\n",
    "    plt.title(r'\\textbf{'+leyenda_y+'}', fontsize=11)\n",
    "    plt.xlabel(r'\\textbf{'+leyenda_x+'}', fontsize=11)\n",
    "    plt.ylabel(r'\\textbf{'+encabezado+'}', fontsize=11)\n",
    "#   plt.margins(0,0.05)\n",
    "    plt.grid()\n",
    "#   plt.legend()\n",
    "    plt.show()\n",
    "    \n",
    "    #f.savefig(nombre_archivo+\".pdf\", bbox_inches='tight')"
   ]
  },
  {
   "cell_type": "markdown",
   "metadata": {
    "colab_type": "text",
    "id": "hpqg67JT3mtn"
   },
   "source": [
    "Diagrama de Lissajous"
   ]
  },
  {
   "cell_type": "code",
   "execution_count": null,
   "metadata": {
    "colab": {},
    "colab_type": "code",
    "id": "k9E78Jsw3mUM"
   },
   "outputs": [],
   "source": [
    "def lissajous(v,w):\n",
    "    \n",
    "    salida = []\n",
    "    for i in range(len(v)):\n",
    "        salida.append([v[i][1],w[i][1]])\n",
    "    \n",
    "    return salida"
   ]
  },
  {
   "cell_type": "code",
   "execution_count": null,
   "metadata": {
    "colab": {},
    "colab_type": "code",
    "id": "0sEPwm9M6HsG"
   },
   "outputs": [],
   "source": [
    "def grafica_lissajous(v,w):\n",
    "    entrada = lissajous(v,w)\n",
    "    grafica(entrada, 'Tensión (V)', 'Tensión (V)', 'Diagrama de Lissajous', 'lissajous')\n",
    "    \n",
    "    return 0"
   ]
  },
  {
   "cell_type": "code",
   "execution_count": null,
   "metadata": {
    "colab": {},
    "colab_type": "code",
    "id": "pVG7Rjjg7LQe"
   },
   "outputs": [],
   "source": [
    "def grafica_error(v,w):\n",
    "    entrada = []\n",
    "    for i in range(len(v)):\n",
    "        entrada.append([v[i][0],v[i][1]+w[i][1]])\n",
    "    grafica(entrada, 'Tensión (V)', 'Tensión (V)', 'Diagrama de Lissajous', 'lissajous')\n",
    "    \n",
    "    return o"
   ]
  },
  {
   "cell_type": "code",
   "execution_count": null,
   "metadata": {
    "colab": {},
    "colab_type": "code",
    "id": "orxYLbzxnGRW"
   },
   "outputs": [],
   "source": [
    "def rcosfilter(N, alpha, Ts, Fs):\n",
    "    \"\"\"\n",
    "    Generates a raised cosine (RC) filter (FIR) impulse response.\n",
    " \n",
    "    Parameters\n",
    "    ----------\n",
    "    N : int\n",
    "        Length of the filter in samples.\n",
    " \n",
    "    alpha : float\n",
    "        Roll off factor (Valid values are [0, 1]).\n",
    " \n",
    "    Ts : float\n",
    "        Symbol period in seconds.\n",
    " \n",
    "    Fs : float\n",
    "        Sampling Rate in Hz.\n",
    " \n",
    "    Returns\n",
    "    -------\n",
    " \n",
    "    h_rc : 1-D ndarray (float)\n",
    "        Impulse response of the raised cosine filter.\n",
    " \n",
    "    time_idx : 1-D ndarray (float)\n",
    "        Array containing the time indices, in seconds, for the impulse response.\n",
    "    \"\"\"\n",
    " \n",
    "    T_delta = 1/float(Fs)\n",
    "    time_idx = ((np.arange(N)-N/2))*T_delta\n",
    "    sample_num = np.arange(N)\n",
    "    h_rc = np.zeros(N, dtype=float)\n",
    " \n",
    "    for x in sample_num:\n",
    "        t = (x-N/2)*T_delta\n",
    "        if t == 0.0:\n",
    "            h_rc[x] = 1.0\n",
    "        elif alpha != 0 and t == Ts/(2*alpha):\n",
    "            h_rc[x] = (np.pi/4)*(np.sin(np.pi*t/Ts)/(np.pi*t/Ts))\n",
    "        elif alpha != 0 and t == -Ts/(2*alpha):\n",
    "            h_rc[x] = (np.pi/4)*(np.sin(np.pi*t/Ts)/(np.pi*t/Ts))\n",
    "        else:\n",
    "            h_rc[x] = (np.sin(np.pi*t/Ts)/(np.pi*t/Ts))* \\\n",
    "                    (np.cos(np.pi*alpha*t/Ts)/(1-(((2*alpha*t)/Ts)*((2*alpha*t)/Ts))))\n",
    " \n",
    "    return time_idx, h_rc"
   ]
  }
 ],
 "metadata": {
  "colab": {
   "collapsed_sections": [],
   "name": "Microchip-Joan-y-Franco.ipynb",
   "provenance": []
  },
  "kernelspec": {
   "display_name": "Python 3",
   "language": "python",
   "name": "python3"
  },
  "language_info": {
   "codemirror_mode": {
    "name": "ipython",
    "version": 3
   },
   "file_extension": ".py",
   "mimetype": "text/x-python",
   "name": "python",
   "nbconvert_exporter": "python",
   "pygments_lexer": "ipython3",
   "version": "3.6.4"
  }
 },
 "nbformat": 4,
 "nbformat_minor": 1
}
